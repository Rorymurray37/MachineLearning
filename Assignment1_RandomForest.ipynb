{
 "cells": [
  {
   "cell_type": "code",
   "execution_count": 2,
   "metadata": {},
   "outputs": [],
   "source": [
    "import numpy as np \n",
    "import pandas as pd\n",
    "from __future__ import division\n",
    "import sklearn\n"
   ]
  },
  {
   "cell_type": "code",
   "execution_count": 29,
   "metadata": {},
   "outputs": [],
   "source": [
    "df = pd.DataFrame()\n",
    "df = pd.read_csv('/Users/rorymurray/Desktop/beer_trainingC.csv',sep = ';')\n",
    "\n",
    "testdf = pd.DataFrame()\n",
    "testdf = pd.read_csv('/Users/rorymurray/Desktop/beer_testC.csv',sep = ';')"
   ]
  },
  {
   "cell_type": "code",
   "execution_count": 7,
   "metadata": {},
   "outputs": [
    {
     "data": {
      "text/html": [
       "<div>\n",
       "<style scoped>\n",
       "    .dataframe tbody tr th:only-of-type {\n",
       "        vertical-align: middle;\n",
       "    }\n",
       "\n",
       "    .dataframe tbody tr th {\n",
       "        vertical-align: top;\n",
       "    }\n",
       "\n",
       "    .dataframe thead th {\n",
       "        text-align: right;\n",
       "    }\n",
       "</style>\n",
       "<table border=\"1\" class=\"dataframe\">\n",
       "  <thead>\n",
       "    <tr style=\"text-align: right;\">\n",
       "      <th></th>\n",
       "      <th>Calorific_value</th>\n",
       "      <th>Nitrogen</th>\n",
       "      <th>Turbidity</th>\n",
       "      <th>Style</th>\n",
       "      <th>Alcohol</th>\n",
       "      <th>Sugars</th>\n",
       "      <th>Bitterness</th>\n",
       "      <th>Beer_ID</th>\n",
       "      <th>Colour</th>\n",
       "      <th>Degree of Fermentation</th>\n",
       "    </tr>\n",
       "  </thead>\n",
       "  <tbody>\n",
       "    <tr>\n",
       "      <th>0</th>\n",
       "      <td>45.305310</td>\n",
       "      <td>0.459548</td>\n",
       "      <td>1.917273</td>\n",
       "      <td>ale</td>\n",
       "      <td>4.227692</td>\n",
       "      <td>16.67</td>\n",
       "      <td>12.568947</td>\n",
       "      <td>167</td>\n",
       "      <td>11.04</td>\n",
       "      <td>62.178571</td>\n",
       "    </tr>\n",
       "    <tr>\n",
       "      <th>1</th>\n",
       "      <td>43.889381</td>\n",
       "      <td>0.548977</td>\n",
       "      <td>3.186364</td>\n",
       "      <td>ale</td>\n",
       "      <td>4.289231</td>\n",
       "      <td>16.73</td>\n",
       "      <td>14.974000</td>\n",
       "      <td>128</td>\n",
       "      <td>13.44</td>\n",
       "      <td>63.032857</td>\n",
       "    </tr>\n",
       "    <tr>\n",
       "      <th>2</th>\n",
       "      <td>41.588496</td>\n",
       "      <td>0.542847</td>\n",
       "      <td>1.568182</td>\n",
       "      <td>ale</td>\n",
       "      <td>4.344615</td>\n",
       "      <td>16.48</td>\n",
       "      <td>11.848789</td>\n",
       "      <td>88</td>\n",
       "      <td>14.04</td>\n",
       "      <td>63.468571</td>\n",
       "    </tr>\n",
       "    <tr>\n",
       "      <th>3</th>\n",
       "      <td>44.553097</td>\n",
       "      <td>0.480301</td>\n",
       "      <td>1.871818</td>\n",
       "      <td>ale</td>\n",
       "      <td>4.424615</td>\n",
       "      <td>18.59</td>\n",
       "      <td>13.879632</td>\n",
       "      <td>147</td>\n",
       "      <td>12.48</td>\n",
       "      <td>63.531429</td>\n",
       "    </tr>\n",
       "    <tr>\n",
       "      <th>4</th>\n",
       "      <td>41.013274</td>\n",
       "      <td>0.441860</td>\n",
       "      <td>2.345455</td>\n",
       "      <td>ale</td>\n",
       "      <td>4.264615</td>\n",
       "      <td>16.35</td>\n",
       "      <td>12.186053</td>\n",
       "      <td>74</td>\n",
       "      <td>12.12</td>\n",
       "      <td>63.747143</td>\n",
       "    </tr>\n",
       "  </tbody>\n",
       "</table>\n",
       "</div>"
      ],
      "text/plain": [
       "   Calorific_value  Nitrogen  Turbidity  Style   Alcohol  Sugars  Bitterness  \\\n",
       "0        45.305310  0.459548    1.917273   ale  4.227692   16.67   12.568947   \n",
       "1        43.889381  0.548977    3.186364   ale  4.289231   16.73   14.974000   \n",
       "2        41.588496  0.542847    1.568182   ale  4.344615   16.48   11.848789   \n",
       "3        44.553097  0.480301    1.871818   ale  4.424615   18.59   13.879632   \n",
       "4        41.013274  0.441860    2.345455   ale  4.264615   16.35   12.186053   \n",
       "\n",
       "   Beer_ID  Colour  Degree of Fermentation  \n",
       "0      167   11.04               62.178571  \n",
       "1      128   13.44               63.032857  \n",
       "2       88   14.04               63.468571  \n",
       "3      147   12.48               63.531429  \n",
       "4       74   12.12               63.747143  "
      ]
     },
     "execution_count": 7,
     "metadata": {},
     "output_type": "execute_result"
    }
   ],
   "source": [
    "df.head()"
   ]
  },
  {
   "cell_type": "code",
   "execution_count": 30,
   "metadata": {},
   "outputs": [
    {
     "name": "stdout",
     "output_type": "stream",
     "text": [
      "['ale' 'ale' 'ale' 'ale' 'ale' 'ale' 'ale' 'ale' 'ale' 'ale' 'lager'\n",
      " 'lager' 'lager' 'lager' 'lager' 'lager' 'lager' 'lager' 'lager' 'lager'\n",
      " 'stout' 'stout' 'stout' 'stout' 'stout' 'stout' 'stout' 'stout' 'stout'\n",
      " 'stout']\n"
     ]
    }
   ],
   "source": [
    "x = df.iloc[:,[0,1,2,4,5,6,8,9]]\n",
    "xlabels = df.iloc[:,3].values\n",
    "\n",
    "y = testdf.iloc[:,[0,1,2,4,5,6,8,9]]\n",
    "ylabels = testdf.iloc[:,3].values\n",
    "\n",
    "print(ylabels)"
   ]
  },
  {
   "cell_type": "code",
   "execution_count": 31,
   "metadata": {},
   "outputs": [],
   "source": [
    "from sklearn.preprocessing import StandardScaler\n",
    "\n",
    "sc = StandardScaler()\n",
    "x = sc.fit_transform(x)\n",
    "y = sc.transform(y)"
   ]
  },
  {
   "cell_type": "code",
   "execution_count": 44,
   "metadata": {},
   "outputs": [
    {
     "data": {
      "text/plain": [
       "RandomForestClassifier(bootstrap=True, class_weight=None, criterion='entropy',\n",
       "            max_depth=None, max_features='auto', max_leaf_nodes=None,\n",
       "            min_impurity_decrease=0.0, min_impurity_split=None,\n",
       "            min_samples_leaf=1, min_samples_split=2,\n",
       "            min_weight_fraction_leaf=0.0, n_estimators=7, n_jobs=1,\n",
       "            oob_score=False, random_state=0, verbose=0, warm_start=False)"
      ]
     },
     "execution_count": 44,
     "metadata": {},
     "output_type": "execute_result"
    }
   ],
   "source": [
    "from sklearn.ensemble import RandomForestClassifier\n",
    "\n",
    "clf = RandomForestClassifier(n_estimators=7, random_state=0,criterion = 'entropy')\n",
    "\n",
    "# Train the Classifier to take the training features and learn how they relate\n",
    "# to the training y (the species)\n",
    "clf.fit(x, xlabels)\n",
    "\n"
   ]
  },
  {
   "cell_type": "code",
   "execution_count": 45,
   "metadata": {},
   "outputs": [
    {
     "name": "stdout",
     "output_type": "stream",
     "text": [
      "['ale' 'ale' 'ale' 'ale' 'ale' 'ale' 'ale' 'ale' 'ale' 'ale' 'lager'\n",
      " 'lager' 'lager' 'lager' 'lager' 'stout' 'lager' 'lager' 'lager' 'lager'\n",
      " 'stout' 'lager' 'stout' 'stout' 'stout' 'stout' 'stout' 'stout' 'stout'\n",
      " 'stout']\n"
     ]
    }
   ],
   "source": [
    "prediction = clf.predict(y)\n",
    "print(prediction)"
   ]
  },
  {
   "cell_type": "code",
   "execution_count": 46,
   "metadata": {},
   "outputs": [
    {
     "name": "stdout",
     "output_type": "stream",
     "text": [
      "0.933333333333\n"
     ]
    }
   ],
   "source": [
    "length = len(prediction)\n",
    "score = 0\n",
    "\n",
    "\n",
    "for i in range(0,len(prediction)):\n",
    "    if prediction[i] == ylabels[i]:\n",
    "            score += 1\n",
    "            \n",
    "accuracy = score/length\n",
    "\n",
    "print(accuracy)\n",
    "            "
   ]
  },
  {
   "cell_type": "code",
   "execution_count": 56,
   "metadata": {},
   "outputs": [
    {
     "name": "stdout",
     "output_type": "stream",
     "text": [
      "[[ 9  0  1]\n",
      " [ 0 10  0]\n",
      " [ 0  0 10]]\n",
      "             precision    recall  f1-score   support\n",
      "\n",
      "        ale       1.00      0.90      0.95        10\n",
      "      lager       1.00      1.00      1.00        10\n",
      "      stout       0.91      1.00      0.95        10\n",
      "\n",
      "avg / total       0.97      0.97      0.97        30\n",
      "\n",
      "0.9666666666666667\n"
     ]
    }
   ],
   "source": [
    "from sklearn.metrics import classification_report, confusion_matrix, accuracy_score\n",
    "\n",
    "print(confusion_matrix(ylabels,prediction))\n",
    "print(classification_report(ylabels,prediction))\n",
    "print(accuracy_score(ylabels,prediction))"
   ]
  },
  {
   "cell_type": "code",
   "execution_count": null,
   "metadata": {},
   "outputs": [],
   "source": []
  }
 ],
 "metadata": {
  "kernelspec": {
   "display_name": "Python 3",
   "language": "python",
   "name": "python3"
  },
  "language_info": {
   "codemirror_mode": {
    "name": "ipython",
    "version": 3
   },
   "file_extension": ".py",
   "mimetype": "text/x-python",
   "name": "python",
   "nbconvert_exporter": "python",
   "pygments_lexer": "ipython3",
   "version": "3.6.8"
  }
 },
 "nbformat": 4,
 "nbformat_minor": 2
}
