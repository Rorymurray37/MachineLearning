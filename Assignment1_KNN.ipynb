{
 "cells": [
  {
   "cell_type": "code",
   "execution_count": null,
   "metadata": {},
   "outputs": [],
   "source": [
    "import numpy as np \n",
    "import pandas as pd\n",
    "eps = np.finfo(float).eps\n",
    "from numpy import log2 as log\n",
    "from __future__ import division\n",
    "import matplotlib.pyplot as plt\n"
   ]
  },
  {
   "cell_type": "code",
   "execution_count": 63,
   "metadata": {},
   "outputs": [
    {
     "data": {
      "text/html": [
       "<div>\n",
       "<style scoped>\n",
       "    .dataframe tbody tr th:only-of-type {\n",
       "        vertical-align: middle;\n",
       "    }\n",
       "\n",
       "    .dataframe tbody tr th {\n",
       "        vertical-align: top;\n",
       "    }\n",
       "\n",
       "    .dataframe thead th {\n",
       "        text-align: right;\n",
       "    }\n",
       "</style>\n",
       "<table border=\"1\" class=\"dataframe\">\n",
       "  <thead>\n",
       "    <tr style=\"text-align: right;\">\n",
       "      <th></th>\n",
       "      <th>Calorific_value</th>\n",
       "      <th>Nitrogen</th>\n",
       "      <th>Turbidity</th>\n",
       "      <th>Style</th>\n",
       "      <th>Alcohol</th>\n",
       "      <th>Sugars</th>\n",
       "      <th>Bitterness</th>\n",
       "      <th>Beer_ID</th>\n",
       "      <th>Colour</th>\n",
       "      <th>Degree of Fermentation</th>\n",
       "    </tr>\n",
       "  </thead>\n",
       "  <tbody>\n",
       "    <tr>\n",
       "      <th>0</th>\n",
       "      <td>45.305310</td>\n",
       "      <td>0.459548</td>\n",
       "      <td>1.917273</td>\n",
       "      <td>ale</td>\n",
       "      <td>4.227692</td>\n",
       "      <td>16.67</td>\n",
       "      <td>12.568947</td>\n",
       "      <td>167</td>\n",
       "      <td>11.04</td>\n",
       "      <td>62.178571</td>\n",
       "    </tr>\n",
       "    <tr>\n",
       "      <th>1</th>\n",
       "      <td>43.889381</td>\n",
       "      <td>0.548977</td>\n",
       "      <td>3.186364</td>\n",
       "      <td>ale</td>\n",
       "      <td>4.289231</td>\n",
       "      <td>16.73</td>\n",
       "      <td>14.974000</td>\n",
       "      <td>128</td>\n",
       "      <td>13.44</td>\n",
       "      <td>63.032857</td>\n",
       "    </tr>\n",
       "    <tr>\n",
       "      <th>2</th>\n",
       "      <td>41.588496</td>\n",
       "      <td>0.542847</td>\n",
       "      <td>1.568182</td>\n",
       "      <td>ale</td>\n",
       "      <td>4.344615</td>\n",
       "      <td>16.48</td>\n",
       "      <td>11.848789</td>\n",
       "      <td>88</td>\n",
       "      <td>14.04</td>\n",
       "      <td>63.468571</td>\n",
       "    </tr>\n",
       "    <tr>\n",
       "      <th>3</th>\n",
       "      <td>44.553097</td>\n",
       "      <td>0.480301</td>\n",
       "      <td>1.871818</td>\n",
       "      <td>ale</td>\n",
       "      <td>4.424615</td>\n",
       "      <td>18.59</td>\n",
       "      <td>13.879632</td>\n",
       "      <td>147</td>\n",
       "      <td>12.48</td>\n",
       "      <td>63.531429</td>\n",
       "    </tr>\n",
       "    <tr>\n",
       "      <th>4</th>\n",
       "      <td>41.013274</td>\n",
       "      <td>0.441860</td>\n",
       "      <td>2.345455</td>\n",
       "      <td>ale</td>\n",
       "      <td>4.264615</td>\n",
       "      <td>16.35</td>\n",
       "      <td>12.186053</td>\n",
       "      <td>74</td>\n",
       "      <td>12.12</td>\n",
       "      <td>63.747143</td>\n",
       "    </tr>\n",
       "  </tbody>\n",
       "</table>\n",
       "</div>"
      ],
      "text/plain": [
       "   Calorific_value  Nitrogen  Turbidity  Style   Alcohol  Sugars  Bitterness  \\\n",
       "0        45.305310  0.459548    1.917273   ale  4.227692   16.67   12.568947   \n",
       "1        43.889381  0.548977    3.186364   ale  4.289231   16.73   14.974000   \n",
       "2        41.588496  0.542847    1.568182   ale  4.344615   16.48   11.848789   \n",
       "3        44.553097  0.480301    1.871818   ale  4.424615   18.59   13.879632   \n",
       "4        41.013274  0.441860    2.345455   ale  4.264615   16.35   12.186053   \n",
       "\n",
       "   Beer_ID  Colour  Degree of Fermentation  \n",
       "0      167   11.04               62.178571  \n",
       "1      128   13.44               63.032857  \n",
       "2       88   14.04               63.468571  \n",
       "3      147   12.48               63.531429  \n",
       "4       74   12.12               63.747143  "
      ]
     },
     "execution_count": 63,
     "metadata": {},
     "output_type": "execute_result"
    }
   ],
   "source": [
    "\n",
    "\n",
    "df = pd.DataFrame()\n",
    "df = pd.read_csv('/Users/rorymurray/Desktop/beer_trainingC.csv',sep = ';')\n",
    "\n",
    "testdf = pd.DataFrame()\n",
    "testdf = pd.read_csv('/Users/rorymurray/Desktop/beer_testC.csv',sep = ';')\n",
    "\n",
    "\n",
    "df.head()"
   ]
  },
  {
   "cell_type": "code",
   "execution_count": 64,
   "metadata": {},
   "outputs": [
    {
     "name": "stdout",
     "output_type": "stream",
     "text": [
      "['ale' 'ale' 'ale' 'ale' 'ale' 'ale' 'ale' 'ale' 'ale' 'ale' 'lager'\n",
      " 'lager' 'lager' 'lager' 'lager' 'lager' 'lager' 'lager' 'lager' 'lager'\n",
      " 'stout' 'stout' 'stout' 'stout' 'stout' 'stout' 'stout' 'stout' 'stout'\n",
      " 'stout']\n"
     ]
    }
   ],
   "source": [
    "#x = training data\n",
    "#y = testing data\n",
    "\n",
    "x = df.iloc[:,[0,1,2,4,5,6,8,9]]\n",
    "xlabels = df.iloc[:,3].values\n",
    "\n",
    "y = testdf.iloc[:,[0,1,2,4,5,6,8,9]]\n",
    "ylabels = testdf.iloc[:,3].values\n",
    "\n",
    "print(ylabels)\n"
   ]
  },
  {
   "cell_type": "code",
   "execution_count": 65,
   "metadata": {},
   "outputs": [],
   "source": [
    "from sklearn.preprocessing import StandardScaler\n",
    "scaler = StandardScaler()\n",
    "scaler.fit(x)\n",
    "\n",
    "x = scaler.transform(x)\n",
    "y = scaler.transform(y)"
   ]
  },
  {
   "cell_type": "code",
   "execution_count": 66,
   "metadata": {},
   "outputs": [
    {
     "data": {
      "text/plain": [
       "KNeighborsClassifier(algorithm='auto', leaf_size=30, metric='minkowski',\n",
       "           metric_params=None, n_jobs=1, n_neighbors=3, p=2,\n",
       "           weights='uniform')"
      ]
     },
     "execution_count": 66,
     "metadata": {},
     "output_type": "execute_result"
    }
   ],
   "source": [
    "from sklearn.neighbors import KNeighborsClassifier\n",
    "classifier = KNeighborsClassifier(n_neighbors=3,weights = 'uniform')\n",
    "classifier.fit(x, xlabels)"
   ]
  },
  {
   "cell_type": "code",
   "execution_count": 67,
   "metadata": {},
   "outputs": [
    {
     "name": "stdout",
     "output_type": "stream",
     "text": [
      "['ale' 'ale' 'ale' 'ale' 'ale' 'ale' 'ale' 'ale' 'ale' 'ale' 'lager'\n",
      " 'lager' 'lager' 'lager' 'lager' 'lager' 'lager' 'lager' 'lager' 'lager'\n",
      " 'stout' 'lager' 'stout' 'stout' 'stout' 'stout' 'stout' 'stout' 'stout'\n",
      " 'stout']\n"
     ]
    }
   ],
   "source": [
    "y_pred = classifier.predict(y)\n",
    "print(y_pred)"
   ]
  },
  {
   "cell_type": "code",
   "execution_count": 23,
   "metadata": {},
   "outputs": [
    {
     "name": "stdout",
     "output_type": "stream",
     "text": [
      "30\n"
     ]
    }
   ],
   "source": [
    "length = len(y_pred)\n",
    "print(length)"
   ]
  },
  {
   "cell_type": "code",
   "execution_count": 68,
   "metadata": {},
   "outputs": [
    {
     "name": "stdout",
     "output_type": "stream",
     "text": [
      "0.966666666667\n"
     ]
    }
   ],
   "source": [
    "\n",
    "score = 0\n",
    "\n",
    "\n",
    "for i in range(0,len(y_pred)):\n",
    "    if y_pred[i] == ylabels[i]:\n",
    "            score += 1\n",
    "            \n",
    "accuracy = score/length\n",
    "\n",
    "print(accuracy)\n",
    "            "
   ]
  },
  {
   "cell_type": "code",
   "execution_count": null,
   "metadata": {},
   "outputs": [],
   "source": [
    "error = []\n",
    "\n",
    "# Calculating error for K values between 1 and 40\n",
    "for i in range(1, 40):\n",
    "    knn = KNeighborsClassifier(n_neighbors=i)\n",
    "    knn.fit(x, xlabels)\n",
    "    pred_i = knn.predict(y)\n",
    "    error.append(np.mean(pred_i != ylabels))\n",
    "    \n",
    "    \n",
    "    \n",
    "\n",
    "plt.figure(figsize=(12, 6))\n",
    "plt.plot(range(1, 40), error, color='red', linestyle='dashed', marker='o',\n",
    "         markerfacecolor='blue', markersize=10)\n",
    "plt.title('Error Rate K Value')\n",
    "plt.xlabel('K Value')\n",
    "plt.ylabel('Mean Error')    "
   ]
  },
  {
   "cell_type": "code",
   "execution_count": null,
   "metadata": {},
   "outputs": [],
   "source": []
  }
 ],
 "metadata": {
  "kernelspec": {
   "display_name": "Python 3",
   "language": "python",
   "name": "python3"
  },
  "language_info": {
   "codemirror_mode": {
    "name": "ipython",
    "version": 3
   },
   "file_extension": ".py",
   "mimetype": "text/x-python",
   "name": "python",
   "nbconvert_exporter": "python",
   "pygments_lexer": "ipython3",
   "version": "3.8.5"
  }
 },
 "nbformat": 4,
 "nbformat_minor": 2
}
